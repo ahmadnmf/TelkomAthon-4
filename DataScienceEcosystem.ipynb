{
 "cells": [
  {
   "cell_type": "markdown",
   "id": "c3052d62-93c4-4e86-b04c-ef9ebe365659",
   "metadata": {},
   "source": [
    "# Data Science Tools and Ecosystem"
   ]
  },
  {
   "cell_type": "markdown",
   "id": "1ad84e69-2999-405d-859a-244136ce17a2",
   "metadata": {},
   "source": [
    "In this notebook, Data Science Tools and Ecosystem are summarized."
   ]
  },
  {
   "cell_type": "markdown",
   "id": "0c00c432-70f2-4b17-8558-19befbd6bc38",
   "metadata": {},
   "source": [
    "__Objectives:__\n",
    "- List popular languages for Data Science\n",
    "- List commonly used libraries used by Data Scientist\n",
    "- List popular Data Science tools\n",
    "- A few arithemtic examples"
   ]
  },
  {
   "cell_type": "markdown",
   "id": "2fd88709-f1a1-40ef-873e-5e218ff37241",
   "metadata": {
    "tags": []
   },
   "source": [
    "Some of the popular languages that Data Scientists use are:\n",
    "1. Python\n",
    "2. R\n",
    "3. SQL\n",
    "4. Java\n",
    "5. Julia\n",
    "6. C++\n",
    "7. Scala"
   ]
  },
  {
   "cell_type": "markdown",
   "id": "2ffbfe70-1d3c-4c84-9e43-96db66e8376d",
   "metadata": {},
   "source": [
    "Some of the commonly used libraries used by Data Scientists include:\n",
    "1. TensorFlow\n",
    "2. Numpy\n",
    "3. Matplotlib\n",
    "4. Pandas\n",
    "5. Seaborn\n",
    "6. Scikit-learn\n",
    "7. Keras\n",
    "8. PyTorch"
   ]
  },
  {
   "cell_type": "markdown",
   "id": "16aeb92a-69cf-4b71-83c1-38df154ccf5c",
   "metadata": {
    "tags": []
   },
   "source": [
    "| Data Science Tools |\n",
    "| --- |\n",
    "| Jupyter Notebooks |\n",
    "| RStudio |\n",
    "| Apache Zeppelin |\n",
    "| Spyder |"
   ]
  },
  {
   "cell_type": "markdown",
   "id": "a6b18034-3c34-4526-ae6a-af077d6f4afb",
   "metadata": {},
   "source": [
    "### Below are a few examples of evaluating arithmetic expressions in Python"
   ]
  },
  {
   "cell_type": "code",
   "execution_count": 3,
   "id": "1e8ac7c9-c9f8-4069-a40d-47cc229a722b",
   "metadata": {
    "tags": []
   },
   "outputs": [
    {
     "data": {
      "text/plain": [
       "17"
      ]
     },
     "execution_count": 3,
     "metadata": {},
     "output_type": "execute_result"
    }
   ],
   "source": [
    "# This a simple arithmetic expression to mutiply then add integers\n",
    "(3*4)+5"
   ]
  },
  {
   "cell_type": "code",
   "execution_count": 9,
   "id": "95a6ac49-aed0-4f5d-965e-18c9844c9705",
   "metadata": {
    "tags": []
   },
   "outputs": [
    {
     "data": {
      "text/plain": [
       "3.3333333333333335"
      ]
     },
     "execution_count": 9,
     "metadata": {},
     "output_type": "execute_result"
    }
   ],
   "source": [
    "# This will convert 200 minutes to hours by diving by 60\n",
    "minutes = 200\n",
    "hours = minutes/60\n",
    "hours"
   ]
  },
  {
   "cell_type": "markdown",
   "id": "f3e462f2-3561-4bf1-aa1c-5deaaeee1d1d",
   "metadata": {
    "tags": []
   },
   "source": [
    "## Author\n",
    "Ahmad Nurmaulana Firli"
   ]
  }
 ],
 "metadata": {
  "kernelspec": {
   "display_name": "Python",
   "language": "python",
   "name": "conda-env-python-py"
  },
  "language_info": {
   "codemirror_mode": {
    "name": "ipython",
    "version": 3
   },
   "file_extension": ".py",
   "mimetype": "text/x-python",
   "name": "python",
   "nbconvert_exporter": "python",
   "pygments_lexer": "ipython3",
   "version": "3.7.12"
  }
 },
 "nbformat": 4,
 "nbformat_minor": 5
}
